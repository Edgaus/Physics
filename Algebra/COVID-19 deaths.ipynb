{
 "cells": [
  {
   "cell_type": "markdown",
   "metadata": {},
   "source": [
    "<h1>Coronavirus </h1>\n",
    "\n",
    "\n",
    "Este codigo ha sido creado para realizar una investigacion de los efectos mas importantes de COVID-19, las muertes totales a nivel global.\n",
    "\n",
    "La fuente de informacion ha sido obtenida del siguiente link: \n",
    "<a href=\"https://ourworldindata.org/covid-deaths\">Coronavirus (COVID-19) Deaths</a>.\n",
    "\n",
    "Se ha descargado la informacion y se ha creado "
   ]
  }
 ],
 "metadata": {
  "kernelspec": {
   "display_name": "Python 3",
   "language": "python",
   "name": "python3"
  },
  "language_info": {
   "codemirror_mode": {
    "name": "ipython",
    "version": 3
   },
   "file_extension": ".py",
   "mimetype": "text/x-python",
   "name": "python",
   "nbconvert_exporter": "python",
   "pygments_lexer": "ipython3",
   "version": "3.9.13"
  }
 },
 "nbformat": 4,
 "nbformat_minor": 2
}
